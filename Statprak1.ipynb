{
 "cells": [
  {
   "cell_type": "code",
   "execution_count": 1,
   "metadata": {},
   "outputs": [],
   "source": [
    "#Задача 20\n",
    "def func(List, Elem):\n",
    "    i = 0\n",
    "    j = len(List)-1\n",
    "    \n",
    "    while True: \n",
    "        mid = int((i+j)/2)\n",
    "        if i > j:\n",
    "            return False\n",
    "        if Elem > List[mid]:\n",
    "            i = mid+1\n",
    "        elif Elem < List[mid]:\n",
    "            j = mid-1\n",
    "        else:\n",
    "            return True\n",
    "    else:\n",
    "        return False"
   ]
  },
  {
   "cell_type": "code",
   "execution_count": 2,
   "metadata": {},
   "outputs": [],
   "source": [
    "if __name__==\"__main__\":\n",
    "    l = [0, 2, 8, 19, 34, 49, 83, 138]"
   ]
  },
  {
   "cell_type": "code",
   "execution_count": 3,
   "metadata": {},
   "outputs": [
    {
     "name": "stdout",
     "output_type": "stream",
     "text": [
      "False\n"
     ]
    }
   ],
   "source": [
    "print(func(l, 9))"
   ]
  },
  {
   "cell_type": "code",
   "execution_count": 4,
   "metadata": {},
   "outputs": [],
   "source": [
    "#Задача 5\n",
    "import random"
   ]
  },
  {
   "cell_type": "code",
   "execution_count": 9,
   "metadata": {},
   "outputs": [
    {
     "name": "stdout",
     "output_type": "stream",
     "text": [
      "a =  [66, 17, 33, 2, 20, 96, 85, 52, 43, 25]\n",
      "b =  [15, 5, 46, 7, 61]\n"
     ]
    }
   ],
   "source": [
    "a = random.sample(range(100), 10)\n",
    "b = random.sample(range(100), 5)\n",
    "print(\"a = \", a)\n",
    "print(\"b = \", b)\n",
    "c = []"
   ]
  },
  {
   "cell_type": "code",
   "execution_count": 10,
   "metadata": {},
   "outputs": [],
   "source": [
    "for i in a:\n",
    "    if i in b:\n",
    "        if i in c:\n",
    "            continue\n",
    "        else:\n",
    "            c.append(i)"
   ]
  },
  {
   "cell_type": "code",
   "execution_count": 11,
   "metadata": {},
   "outputs": [
    {
     "name": "stdout",
     "output_type": "stream",
     "text": [
      "There are no common values\n"
     ]
    }
   ],
   "source": [
    "if not c:\n",
    "    print(\"There are no common values\")\n",
    "else:\n",
    "    print(\"The common values = \", c)"
   ]
  },
  {
   "cell_type": "code",
   "execution_count": 12,
   "metadata": {},
   "outputs": [],
   "source": [
    "#Задача 18\n",
    "import random\n",
    "def func1(num, usernum):\n",
    "    cowsbulls = [0,0]\n",
    "    for i in range(4):\n",
    "        if num[i] == usernum[i]:\n",
    "            cowsbulls[1] += 1\n",
    "        elif num[i] in usernum:\n",
    "            cowsbulls[0] += 1\n",
    "    return cowsbulls"
   ]
  },
  {
   "cell_type": "code",
   "execution_count": 13,
   "metadata": {
    "scrolled": true
   },
   "outputs": [],
   "source": [
    "if __name__==\"__main__\":\n",
    "    game = True\n",
    "    k = 0\n",
    "    number = ''.join(map(str, random.sample(range(10), 4)))"
   ]
  },
  {
   "cell_type": "code",
   "execution_count": 14,
   "metadata": {},
   "outputs": [
    {
     "name": "stdout",
     "output_type": "stream",
     "text": [
      "9462\n"
     ]
    }
   ],
   "source": [
    "print(number)"
   ]
  },
  {
   "cell_type": "code",
   "execution_count": 15,
   "metadata": {},
   "outputs": [
    {
     "name": "stdout",
     "output_type": "stream",
     "text": [
      "$ Input a 4-digit number without duplicates or exit\n",
      "4926\n",
      "$ You have 4 cows and 0 bulls\n",
      "$ Try again\n",
      "$ Input a 4-digit number without duplicates or exit\n",
      "exit\n",
      "$ Game over\n"
     ]
    }
   ],
   "source": [
    "game = True\n",
    "while game:\n",
    "    print(\"$ Input a 4-digit number without duplicates or exit\")\n",
    "    usernumber = input()\n",
    "    if usernumber == \"exit\":\n",
    "        print(\"$ Game over\")\n",
    "        break\n",
    "    c = func1(number, usernumber)\n",
    "    k += 1\n",
    "    print( \"$ You have \"+str(c[0])+\" cows and \"+str(c[1])+\" bulls\")\n",
    "    if c[1] == 4:\n",
    "        game = False\n",
    "        print(\"$ You win! Number of attempts: \"+str(k))\n",
    "        break\n",
    "    else:\n",
    "        print(\"$ Try again\")\n",
    " "
   ]
  },
  {
   "cell_type": "code",
   "execution_count": 17,
   "metadata": {},
   "outputs": [
    {
     "name": "stdout",
     "output_type": "stream",
     "text": [
      "q^jw$O0%\n"
     ]
    }
   ],
   "source": [
    "#Задача 16\n",
    "import random\n",
    "\n",
    "s = \"abcdefghijklmnopqrstuvwxyz01234567890ABCDEFGHIJKLMNOPQRSTUVWXYZ!@#$%^&*()?\"\n",
    "passlen = 8\n",
    "p =  \"\".join(random.sample(s,passlen ))\n",
    "print(p)"
   ]
  },
  {
   "cell_type": "code",
   "execution_count": null,
   "metadata": {},
   "outputs": [],
   "source": []
  }
 ],
 "metadata": {
  "kernelspec": {
   "display_name": "Python 3",
   "language": "python",
   "name": "python3"
  },
  "language_info": {
   "codemirror_mode": {
    "name": "ipython",
    "version": 3
   },
   "file_extension": ".py",
   "mimetype": "text/x-python",
   "name": "python",
   "nbconvert_exporter": "python",
   "pygments_lexer": "ipython3",
   "version": "3.6.5"
  }
 },
 "nbformat": 4,
 "nbformat_minor": 2
}
