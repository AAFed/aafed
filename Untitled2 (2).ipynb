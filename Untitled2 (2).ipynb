{
 "cells": [
  {
   "cell_type": "code",
   "execution_count": 1,
   "metadata": {},
   "outputs": [],
   "source": [
    "import numpy as np"
   ]
  },
  {
   "cell_type": "code",
   "execution_count": 2,
   "metadata": {},
   "outputs": [
    {
     "name": "stdout",
     "output_type": "stream",
     "text": [
      "[[0.5808414  0.8789148  0.72907084]\n",
      " [0.41448952 0.29908719 0.4909787 ]\n",
      " [0.03084573 0.41813213 0.87217429]\n",
      " [0.1435109  0.80322685 0.62406415]\n",
      " [0.70619891 0.03638224 0.99027555]\n",
      " [0.15296368 0.22935302 0.09504761]\n",
      " [0.94631976 0.12692787 0.26475212]\n",
      " [0.14288435 0.07222135 0.20337807]\n",
      " [0.10548478 0.35865081 0.10710216]\n",
      " [0.0011082  0.85118557 0.60226104]]\n",
      "[0.5808414  0.4909787  0.41813213 0.62406415 0.70619891 0.22935302\n",
      " 0.26475212 0.20337807 0.35865081 0.60226104]\n"
     ]
    }
   ],
   "source": [
    "#Задача 1\n",
    "s = np.random.random((10, 3))\n",
    "print(s)\n",
    "print(s.flatten()[np.argmin(abs(s-0.5),axis=1) + np.arange(0,10*3,3)])"
   ]
  },
  {
   "cell_type": "code",
   "execution_count": 3,
   "metadata": {},
   "outputs": [
    {
     "name": "stdout",
     "output_type": "stream",
     "text": [
      "[[0.68779536 0.38884817 0.12103886 0.14799837 0.3183776  0.79285506]\n",
      " [0.22957049 0.54341922 0.83093371 0.76143586 0.12853114 0.65855799]\n",
      " [0.92846634 0.08659343 0.39494441 0.19701609 0.30433221 0.85544854]\n",
      " [0.85384    0.73365924 0.9507068  0.69653124 0.0684013  0.2534788 ]\n",
      " [0.08769002 0.14452543 0.98743521 0.47112253 0.86413999 0.80275639]\n",
      " [0.24862838 0.76104397 0.61145818 0.26047083 0.18402856 0.83362638]]\n",
      "[28.01816452 36.40517016 22.85878265 24.03146372 49.08780099 11.4378652 ]\n"
     ]
    }
   ],
   "source": [
    "#Задача 2\n",
    "a = np.random.random((6, 6))\n",
    "print(a)\n",
    "print( a.sum(axis = 1)/ a.min(axis= 0))"
   ]
  },
  {
   "cell_type": "code",
   "execution_count": 4,
   "metadata": {},
   "outputs": [
    {
     "name": "stdout",
     "output_type": "stream",
     "text": [
      "5\n"
     ]
    }
   ],
   "source": [
    "#Задача 3\n",
    "b = np.array([6, 2, 0, 3, 0, 0, 5, 7, 0])\n",
    "mask = b == 0\n",
    "print(b[1:][mask[:-1]].max())"
   ]
  },
  {
   "cell_type": "code",
   "execution_count": 5,
   "metadata": {},
   "outputs": [
    {
     "name": "stdout",
     "output_type": "stream",
     "text": [
      "[2. 2. 2. 2. 1. 4. 1. 1. 2. 1.]\n"
     ]
    }
   ],
   "source": [
    "#Задача 4\n",
    "x = np.ones(10)\n",
    "i = np.array([0, 1, 2, 3, 5, 5, 5, 8])\n",
    "print(x + np.bincount(i,minlength=10))"
   ]
  },
  {
   "cell_type": "code",
   "execution_count": 6,
   "metadata": {},
   "outputs": [
    {
     "name": "stdout",
     "output_type": "stream",
     "text": [
      "[[ 3  2  1  0]\n",
      " [ 7  6  5  4]\n",
      " [11 10  9  8]\n",
      " [15 14 13 12]]\n",
      "{0: [15], 1: [11, 14], 2: [7, 10, 13], 3: [3, 6, 9, 12], 4: [2, 5, 8], 5: [1, 4], 6: [0]}\n"
     ]
    }
   ],
   "source": [
    "#Задача 5\n",
    "m = np.arange(16).reshape(4, 4)\n",
    "m = m[:, ::-1]\n",
    "print(m)\n",
    "w = {}\n",
    "for i in range(7):\n",
    "        w[i] = list(m.diagonal(3-i, 1, 0))\n",
    "print(w)"
   ]
  },
  {
   "cell_type": "code",
   "execution_count": null,
   "metadata": {},
   "outputs": [],
   "source": []
  }
 ],
 "metadata": {
  "kernelspec": {
   "display_name": "Python 3",
   "language": "python",
   "name": "python3"
  },
  "language_info": {
   "codemirror_mode": {
    "name": "ipython",
    "version": 3
   },
   "file_extension": ".py",
   "mimetype": "text/x-python",
   "name": "python",
   "nbconvert_exporter": "python",
   "pygments_lexer": "ipython3",
   "version": "3.6.5"
  }
 },
 "nbformat": 4,
 "nbformat_minor": 2
}
