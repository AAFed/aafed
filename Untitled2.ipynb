{
 "cells": [
  {
   "cell_type": "code",
   "execution_count": 1,
   "metadata": {},
   "outputs": [],
   "source": [
    "import numpy as np"
   ]
  },
  {
   "cell_type": "code",
   "execution_count": 11,
   "metadata": {},
   "outputs": [
    {
     "name": "stdout",
     "output_type": "stream",
     "text": [
      "[[0.10497572 0.11302562 0.80830844]\n",
      " [0.95592363 0.56514549 0.18616028]\n",
      " [0.35255062 0.86516124 0.59486026]\n",
      " [0.51863625 0.98310552 0.23543368]\n",
      " [0.96691355 0.32643872 0.22288183]\n",
      " [0.98658109 0.12498731 0.86375547]\n",
      " [0.03996769 0.79672903 0.04256525]\n",
      " [0.27745085 0.82436137 0.34783338]\n",
      " [0.54448083 0.4408173  0.96410501]\n",
      " [0.82876534 0.54574932 0.41835012]]\n",
      "[0.8083084378192322, 0.5651454903325257, 0.5948602611222596, 0.518636253805769, 0.32643871590985163, 0.8637554703924044, 0.7967290261620321, 0.3478333794937485, 0.5444808315415175, 0.5457493216867869]\n"
     ]
    }
   ],
   "source": [
    "#Задача 1\n",
    "s = np.random.random((10, 3))\n",
    "print(s)\n",
    "print([x[np.abs(x-0.5).argmin()] for x in s])"
   ]
  },
  {
   "cell_type": "code",
   "execution_count": 12,
   "metadata": {},
   "outputs": [
    {
     "name": "stdout",
     "output_type": "stream",
     "text": [
      "[[0.70657396 0.79935017 0.68838273 0.05994685 0.90255411 0.6162945 ]\n",
      " [0.07444762 0.31455393 0.13102378 0.75894514 0.44124682 0.80782618]\n",
      " [0.17781337 0.27414056 0.28399884 0.89126553 0.4882102  0.42009043]\n",
      " [0.86457863 0.44761965 0.87026599 0.44275957 0.88634324 0.03522127]\n",
      " [0.83922628 0.65967299 0.00345271 0.46108094 0.71180818 0.08860744]\n",
      " [0.21293327 0.48939245 0.52776497 0.81467695 0.78125815 0.37496753]]\n",
      "[ 50.68130408   9.22170529 734.35636956  59.16554885   6.26372453\n",
      "  90.88240237]\n"
     ]
    }
   ],
   "source": [
    "#Задача 2\n",
    "a = np.random.random((6, 6))\n",
    "print(a)\n",
    "print( a.sum(axis = 1)/ a.min(axis= 0))"
   ]
  },
  {
   "cell_type": "code",
   "execution_count": 13,
   "metadata": {},
   "outputs": [
    {
     "name": "stdout",
     "output_type": "stream",
     "text": [
      "7\n"
     ]
    }
   ],
   "source": [
    "#Задача 3\n",
    "b = np.array([6, 2, 0, 3, 0, 0, 5, 7, 0])\n",
    "c = np.where(b==0)[0]-1\n",
    "print(b[c].max())"
   ]
  },
  {
   "cell_type": "code",
   "execution_count": 14,
   "metadata": {},
   "outputs": [
    {
     "name": "stdout",
     "output_type": "stream",
     "text": [
      "[2. 2. 2. 2. 1. 4. 1. 1. 2. 1.]\n"
     ]
    }
   ],
   "source": [
    "#Задача 4\n",
    "x = np.ones(10)\n",
    "i = np.array([0, 1, 2, 3, 5, 5, 5, 8])\n",
    "h = np.append(i, x.shape)\n",
    "n = np.bincount(h)\n",
    "print(x+n[:-1])"
   ]
  },
  {
   "cell_type": "code",
   "execution_count": 30,
   "metadata": {},
   "outputs": [
    {
     "name": "stdout",
     "output_type": "stream",
     "text": [
      "[[ 3  2  1  0]\n",
      " [ 7  6  5  4]\n",
      " [11 10  9  8]\n",
      " [15 14 13 12]]\n",
      "{0: [15], 1: [11, 14], 2: [7, 10, 13], 3: [3, 6, 9, 12], 4: [2, 5, 8], 5: [1, 4], 6: [0]}\n"
     ]
    }
   ],
   "source": [
    "#Задача 5\n",
    "m = np.arange(16).reshape(4, 4)\n",
    "m = m[:, ::-1]\n",
    "print(m)\n",
    "w = {}\n",
    "for i in range(7):\n",
    "        w[i] = list(m.diagonal(3-i, 1, 0))\n",
    "print(w)\n"
   ]
  },
  {
   "cell_type": "code",
   "execution_count": null,
   "metadata": {},
   "outputs": [],
   "source": []
  }
 ],
 "metadata": {
  "kernelspec": {
   "display_name": "Python 3",
   "language": "python",
   "name": "python3"
  },
  "language_info": {
   "codemirror_mode": {
    "name": "ipython",
    "version": 3
   },
   "file_extension": ".py",
   "mimetype": "text/x-python",
   "name": "python",
   "nbconvert_exporter": "python",
   "pygments_lexer": "ipython3",
   "version": "3.6.5"
  }
 },
 "nbformat": 4,
 "nbformat_minor": 2
}
